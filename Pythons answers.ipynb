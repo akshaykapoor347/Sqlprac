{
 "cells": [
  {
   "cell_type": "code",
   "execution_count": 1,
   "metadata": {},
   "outputs": [],
   "source": [
    "#Python answers:\n",
    "#1) implement count_words(input_Str) counts the number of words in a string\n",
    "#Soln:\n",
    "def count_words(input_Str):\n",
    "    a= len(set(input_Str.split()))\n",
    "    return a"
   ]
  },
  {
   "cell_type": "code",
   "execution_count": null,
   "metadata": {},
   "outputs": [],
   "source": [
    "uniq = {}\n",
    "s =list(s.split())\n",
    "for word in s:\n",
    "    if word in uniq:\n",
    "        uniq[word] +=1\n",
    "    else:\n",
    "        uniq[word] = 1"
   ]
  },
  {
   "cell_type": "code",
   "execution_count": null,
   "metadata": {},
   "outputs": [],
   "source": [
    "#2)implement count_substr which returns number of times substr occurs\n",
    "#nStr = '000123000123' find 123 occurances \n",
    "\n",
    "def count_substr(pat):\n",
    "    return s.count(pat)\n",
    "\n",
    "count_substr('123')"
   ]
  },
  {
   "cell_type": "code",
   "execution_count": 30,
   "metadata": {},
   "outputs": [],
   "source": [
    "def my_count(string,substring):\n",
    "    string_size = len(string)\n",
    "    substr_size = len(substring)\n",
    "    \n",
    "    count = 0\n",
    "    for i in range(0,string_size-substr_size+1):\n",
    "        \n",
    "        if string[i:i+substr_size] == substring:\n",
    "            count+=1\n",
    "    return count"
   ]
  },
  {
   "cell_type": "code",
   "execution_count": 31,
   "metadata": {},
   "outputs": [
    {
     "data": {
      "text/plain": [
       "6"
      ]
     },
     "execution_count": 31,
     "metadata": {},
     "output_type": "execute_result"
    }
   ],
   "source": [
    "my_count('asqsdqwdsadqwdasasasasas','as')"
   ]
  },
  {
   "cell_type": "code",
   "execution_count": null,
   "metadata": {},
   "outputs": [],
   "source": [
    "3) #given a list of tuples of movie watched times, \n",
    "l = [(0, 10), (13, 18), (15, 23), (21, 26)]\n",
    "\n",
    "s = set()\n",
    "\n",
    "for w in l:\n",
    "    s = s.union(range(*w))"
   ]
  },
  {
   "cell_type": "markdown",
   "metadata": {},
   "source": [
    "### 1) how to find duplicates in an array  "
   ]
  },
  {
   "cell_type": "code",
   "execution_count": 39,
   "metadata": {},
   "outputs": [],
   "source": [
    "a = [1,2,312,41,23,21,3,1,2,4,2,4]"
   ]
  },
  {
   "cell_type": "code",
   "execution_count": 42,
   "metadata": {},
   "outputs": [],
   "source": [
    "seen = {}\n",
    "dup = []\n",
    "\n",
    "for w in a:\n",
    "    if w not in seen:\n",
    "        seen[w] = 1\n",
    "    else:\n",
    "        if seen[w] == 1:\n",
    "            dup.append(w)\n",
    "        seen[w] +=1"
   ]
  },
  {
   "cell_type": "code",
   "execution_count": 44,
   "metadata": {},
   "outputs": [
    {
     "data": {
      "text/plain": [
       "[1, 2, 4]"
      ]
     },
     "execution_count": 44,
     "metadata": {},
     "output_type": "execute_result"
    }
   ],
   "source": [
    "dup"
   ]
  },
  {
   "cell_type": "markdown",
   "metadata": {},
   "source": [
    "### Count the frequency of words from the list and store the results in a hash map"
   ]
  },
  {
   "cell_type": "code",
   "execution_count": 45,
   "metadata": {},
   "outputs": [
    {
     "name": "stdout",
     "output_type": "stream",
     "text": [
      "Counter({'apple': 3, 'egg': 2, 'banana': 1})\n"
     ]
    }
   ],
   "source": [
    "from collections import Counter\n",
    "list1=['apple','egg','apple','banana','egg','apple']\n",
    "counts = Counter(list1)\n",
    "print(counts)"
   ]
  },
  {
   "cell_type": "code",
   "execution_count": 76,
   "metadata": {},
   "outputs": [],
   "source": [
    "count = {}\n",
    "for w in list1:\n",
    "    if w in count:\n",
    "        count[w] += 1\n",
    "    else:\n",
    "        count[w] = 1\n",
    "    "
   ]
  },
  {
   "cell_type": "code",
   "execution_count": 77,
   "metadata": {},
   "outputs": [
    {
     "data": {
      "text/plain": [
       "{'apple': 3, 'egg': 2, 'banana': 1}"
      ]
     },
     "execution_count": 77,
     "metadata": {},
     "output_type": "execute_result"
    }
   ],
   "source": [
    "counts"
   ]
  },
  {
   "cell_type": "markdown",
   "metadata": {},
   "source": [
    "### given an ip address as an input string, validate it and return True/False"
   ]
  },
  {
   "cell_type": "code",
   "execution_count": 51,
   "metadata": {},
   "outputs": [],
   "source": [
    "def checkip(a):\n",
    "    pieces = a.split('.')\n",
    "    if(len(pieces)!=4):\n",
    "        return False\n",
    "    for x in pieces:\n",
    "        if not x.isdigit():\n",
    "            return False\n",
    "        i = int(x)\n",
    "        if i < 0 or i > 255:\n",
    "            return False\n",
    "    return True"
   ]
  },
  {
   "cell_type": "code",
   "execution_count": 52,
   "metadata": {},
   "outputs": [],
   "source": [
    " a = '111.111.111.111'"
   ]
  },
  {
   "cell_type": "markdown",
   "metadata": {},
   "source": [
    "### Max number"
   ]
  },
  {
   "cell_type": "code",
   "execution_count": 54,
   "metadata": {},
   "outputs": [],
   "source": [
    "def maxn(a):\n",
    "    mynum = l[0]\n",
    "    for num in l:\n",
    "        if num > mynum:\n",
    "            mynum = num\n",
    "    return mynum\n"
   ]
  },
  {
   "cell_type": "markdown",
   "metadata": {},
   "source": [
    "### Median"
   ]
  },
  {
   "cell_type": "code",
   "execution_count": 55,
   "metadata": {},
   "outputs": [],
   "source": [
    "def median(l):\n",
    "    n = len(l)\n",
    "    if n < 1:\n",
    "        return None\n",
    "    if n % 2 == 1:\n",
    "        return sorted(l)[n//2]\n",
    "    else:\n",
    "        return sum(sorted(l)[n//2-1:n//2+1])/2.0"
   ]
  },
  {
   "cell_type": "markdown",
   "metadata": {},
   "source": [
    "### first nonrecurring element in a list"
   ]
  },
  {
   "cell_type": "code",
   "execution_count": 59,
   "metadata": {},
   "outputs": [],
   "source": [
    "import collections\n",
    "\n",
    "def lit(word):\n",
    "    c = collections.Counter(word)\n",
    "    for w in word:\n",
    "        if c[w] == 1:\n",
    "            return w"
   ]
  },
  {
   "cell_type": "code",
   "execution_count": 61,
   "metadata": {},
   "outputs": [
    {
     "data": {
      "text/plain": [
       "'m'"
      ]
     },
     "execution_count": 61,
     "metadata": {},
     "output_type": "execute_result"
    }
   ],
   "source": [
    "lit('sadqwdqwdqwdqsadm')"
   ]
  },
  {
   "cell_type": "code",
   "execution_count": 62,
   "metadata": {},
   "outputs": [],
   "source": [
    "def firstNonRep(word):\n",
    "    count = {}\n",
    "    for c in word:\n",
    "        if c not in count:\n",
    "            count[c] = 0\n",
    "        count[c] += 1\n",
    "    for c in word:\n",
    "        if count[c] == 1:\n",
    "            return c"
   ]
  },
  {
   "cell_type": "markdown",
   "metadata": {},
   "source": [
    "### Most recurring"
   ]
  },
  {
   "cell_type": "code",
   "execution_count": 70,
   "metadata": {},
   "outputs": [],
   "source": [
    "def most_common(lst):\n",
    "    return max(set(lst), key=lst.count)"
   ]
  },
  {
   "cell_type": "code",
   "execution_count": 69,
   "metadata": {},
   "outputs": [
    {
     "data": {
      "text/plain": [
       "'a'"
      ]
     },
     "execution_count": 69,
     "metadata": {},
     "output_type": "execute_result"
    }
   ],
   "source": [
    "most_common(['a','b','c','d','a'])"
   ]
  },
  {
   "cell_type": "markdown",
   "metadata": {},
   "source": [
    "### GCD"
   ]
  },
  {
   "cell_type": "code",
   "execution_count": 72,
   "metadata": {},
   "outputs": [],
   "source": [
    "def gcd(x, y):\n",
    "    while y != 0:\n",
    "        (x, y) = (y, x % y)\n",
    "    return x"
   ]
  },
  {
   "cell_type": "markdown",
   "metadata": {},
   "source": [
    "### least absolute diff ?"
   ]
  },
  {
   "cell_type": "code",
   "execution_count": 73,
   "metadata": {},
   "outputs": [],
   "source": [
    "def findMinDiff(arr, n): \n",
    "    # Initialize difference as infinite \n",
    "    diff = 10**20\n",
    "    \n",
    "    for i in range(n-1): \n",
    "        for j in range(i+1,n): \n",
    "            if abs(arr[i]-arr[j]) < diff: \n",
    "                diff = abs(arr[i] - arr[j]) \n",
    "  \n",
    "    # Return min diff \n",
    "    return diff "
   ]
  },
  {
   "cell_type": "markdown",
   "metadata": {},
   "source": [
    "### Average length of words"
   ]
  },
  {
   "cell_type": "code",
   "execution_count": 74,
   "metadata": {},
   "outputs": [
    {
     "data": {
      "text/plain": [
       "2.6"
      ]
     },
     "execution_count": 74,
     "metadata": {},
     "output_type": "execute_result"
    }
   ],
   "source": [
    "sentence = \"Hi my name is Bob\"\n",
    "words = sentence.split()\n",
    "average = sum(len(word) for word in words) / len(words)\n",
    "average"
   ]
  },
  {
   "cell_type": "markdown",
   "metadata": {},
   "source": [
    "### Find sum of any 2 numbers in a list is equal to a given number."
   ]
  },
  {
   "cell_type": "code",
   "execution_count": 75,
   "metadata": {},
   "outputs": [
    {
     "name": "stdout",
     "output_type": "stream",
     "text": [
      "the first number= 4 the second number 5\n"
     ]
    }
   ],
   "source": [
    "x = [1,4,5,7,9,6,2]\n",
    "target = 9\n",
    "for i in x:\n",
    "    if i < target:\n",
    "        pair = int(target) - int(i)\n",
    "        if pair in x:\n",
    "            print(\"the first number= %d the second number %d\"%(i,pair))\n",
    "            break"
   ]
  },
  {
   "cell_type": "code",
   "execution_count": null,
   "metadata": {},
   "outputs": [],
   "source": []
  }
 ],
 "metadata": {
  "kernelspec": {
   "display_name": "Python 3",
   "language": "python",
   "name": "python3"
  },
  "language_info": {
   "codemirror_mode": {
    "name": "ipython",
    "version": 3
   },
   "file_extension": ".py",
   "mimetype": "text/x-python",
   "name": "python",
   "nbconvert_exporter": "python",
   "pygments_lexer": "ipython3",
   "version": "3.6.5"
  }
 },
 "nbformat": 4,
 "nbformat_minor": 2
}
